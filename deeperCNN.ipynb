{
 "cells": [
  {
   "cell_type": "markdown",
   "source": [
    "### Training with deeper CNN"
   ],
   "metadata": {
    "collapsed": false
   }
  },
  {
   "cell_type": "code",
   "execution_count": 33,
   "metadata": {
    "collapsed": true
   },
   "outputs": [],
   "source": [
    "import numpy as np\n",
    "import torch as th\n",
    "import torch.optim as optim\n",
    "\n",
    "from torch import nn\n",
    "from torch.utils.data import DataLoader\n",
    "from cnn import CNN\n",
    "from tqdm import tqdm\n",
    "from imgdata import DefaultTrainSet, DefaultTestSet"
   ]
  },
  {
   "cell_type": "code",
   "execution_count": 34,
   "outputs": [
    {
     "data": {
      "text/plain": "device(type='cpu')"
     },
     "execution_count": 34,
     "metadata": {},
     "output_type": "execute_result"
    }
   ],
   "source": [
    "%matplotlib inline\n",
    "\n",
    "if th.cuda.is_available():\n",
    "  # Make CuDNN Determinist\n",
    "  th.backends.cudnn.deterministic = True\n",
    "\n",
    "# Define default device, we should use the GPU (cuda) if available\n",
    "device = th.device(\"cuda\" if th.cuda.is_available() else \"cpu\")\n",
    "device"
   ],
   "metadata": {
    "collapsed": false,
    "pycharm": {
     "name": "#%%\n"
    }
   }
  },
  {
   "cell_type": "markdown",
   "source": [
    "### Set constants"
   ],
   "metadata": {
    "collapsed": false
   }
  },
  {
   "cell_type": "code",
   "execution_count": 35,
   "outputs": [],
   "source": [
    "lr = 1e-3\n",
    "epochs = 24\n",
    "batch_size = 16\n",
    "class_label = ['faces', 'dog', 'airplanes', 'keyboard', 'cars']"
   ],
   "metadata": {
    "collapsed": false,
    "pycharm": {
     "name": "#%%\n"
    }
   }
  },
  {
   "cell_type": "code",
   "execution_count": 36,
   "outputs": [],
   "source": [
    "train_set = DefaultTrainSet()\n",
    "\n",
    "train_dataloader = th.utils.data.DataLoader(train_set, batch_size=batch_size, shuffle=True)"
   ],
   "metadata": {
    "collapsed": false,
    "pycharm": {
     "name": "#%%\n"
    }
   }
  },
  {
   "cell_type": "markdown",
   "source": [
    "### Define model"
   ],
   "metadata": {
    "collapsed": false
   }
  },
  {
   "cell_type": "code",
   "execution_count": 37,
   "outputs": [],
   "source": [
    "cnn = CNN()\n",
    "fc_inputs = 64 * 30 * 30"
   ],
   "metadata": {
    "collapsed": false,
    "pycharm": {
     "name": "#%%\n"
    }
   }
  },
  {
   "cell_type": "code",
   "execution_count": 38,
   "outputs": [],
   "source": [
    "cnn.fc = nn.Sequential(\n",
    "    nn.Linear(fc_inputs, 64),\n",
    "    nn.ReLU(),\n",
    "    nn.Dropout(0.2),\n",
    "    nn.Linear(64, 5)\n",
    ")"
   ],
   "metadata": {
    "collapsed": false,
    "pycharm": {
     "name": "#%%\n"
    }
   }
  },
  {
   "cell_type": "code",
   "execution_count": 39,
   "outputs": [],
   "source": [
    "loss_func = nn.CrossEntropyLoss()\n",
    "optimizer = optim.Adam(cnn.parameters(), lr=lr)"
   ],
   "metadata": {
    "collapsed": false,
    "pycharm": {
     "name": "#%%\n"
    }
   }
  },
  {
   "cell_type": "markdown",
   "source": [
    "### Train model"
   ],
   "metadata": {
    "collapsed": false
   }
  },
  {
   "cell_type": "code",
   "execution_count": 40,
   "outputs": [],
   "source": [
    "def train(_net, n_epochs, train_loader, _optimizer, _criterion):\n",
    "    \"\"\"\n",
    "    Train a neural network and print statistics of the training\n",
    "\n",
    "    :param _criterion:\n",
    "    :param _optimizer:\n",
    "    :param train_loader: loader for the training data\n",
    "    :param _net: (PyTorch Neural Network)\n",
    "    :param n_epochs: (int)  Number of iterations on the training set\n",
    "    \"\"\"\n",
    "    print(\"---------- HYPERPARAMETERS ----------\")\n",
    "    print(\"n_epochs=\", n_epochs)\n",
    "    print(\"-\" * 40)\n",
    "    accuracies = []\n",
    "    losses = []\n",
    "    # Move model to gpu if possible\n",
    "    _net = _net.to(device)\n",
    "    for epoch_count, epoch in enumerate(range(n_epochs)):\n",
    "        # Set the model to training mode\n",
    "        _net.train()\n",
    "        # Initialize the variables to compute the average loss\n",
    "        total_loss = 0.00\n",
    "        total_correct = 0\n",
    "        pbar = tqdm(train_loader)\n",
    "        # Iterate over the training set\n",
    "        for i, data in enumerate(pbar):\n",
    "\n",
    "            # Get the inputs\n",
    "            inputs, labels = data['imNorm'], data['label']\n",
    "            # Move them to the correct device\n",
    "            inputs = inputs.to(device)\n",
    "            labels = labels.to(device)\n",
    "\n",
    "            # Zero the parameter gradients\n",
    "            _optimizer.zero_grad()\n",
    "\n",
    "            # Forward pass\n",
    "            outputs = _net(inputs)\n",
    "             # Calculate Loss: softmax --> cross entropy loss\n",
    "            loss = _criterion(outputs, labels)\n",
    "            _, preds = th.max(outputs, 1)\n",
    "            # Getting gradients w.r.t. parameters\n",
    "            loss.backward()\n",
    "\n",
    "            # Updating parameters\n",
    "            _optimizer.step()\n",
    "\n",
    "            # Update the running variables\n",
    "            total_loss += loss.item()\n",
    "            avg_loss = total_loss / (i + 1)\n",
    "            total_correct += th.sum(preds == labels.data)\n",
    "            pbar.set_description(\"Epoch: {}/{}\".format(epoch_count + 1, n_epochs))\n",
    "            pbar.set_postfix(avergae_loss=avg_loss, running_accuracy=th.sum(preds == labels).item() / float(labels.size(0)))\n",
    "            # save the model\n",
    "            model_name = f\"Outputs/models/deeperCNN.pth\"\n",
    "            th.save(_net.state_dict(), model_name)\n",
    "\n",
    "        # Calculate the average loss and accuracy of the epoch\n",
    "        losses.append(total_loss/len(train_loader))\n",
    "        accuracies.append((total_correct/train_loader.sampler.num_samples).item())\n",
    "        # print losses and accuracies in the last epoch\n",
    "        if epoch_count == n_epochs - 1:\n",
    "            print(\"---------- FINAL RESULTS ----------\")\n",
    "            print(\"Losses fot every epoch:\", losses)\n",
    "            print(\"Average accuracy for each epoch: {}\".format(accuracies))\n",
    "            print(\"-\" * 40)\n",
    "    return losses, accuracies"
   ],
   "metadata": {
    "collapsed": false,
    "pycharm": {
     "name": "#%%\n"
    }
   }
  },
  {
   "cell_type": "code",
   "execution_count": 41,
   "outputs": [
    {
     "name": "stdout",
     "output_type": "stream",
     "text": [
      "---------- HYPERPARAMETERS ----------\n",
      "n_epochs= 24\n",
      "----------------------------------------\n"
     ]
    },
    {
     "name": "stderr",
     "output_type": "stream",
     "text": [
      "Epoch: 1/24: 100%|██████████| 22/22 [00:13<00:00,  1.67it/s, avergae_loss=5.37, running_accuracy=0.643]\n",
      "Epoch: 2/24: 100%|██████████| 22/22 [00:12<00:00,  1.82it/s, avergae_loss=0.996, running_accuracy=0.5]  \n",
      "Epoch: 3/24: 100%|██████████| 22/22 [00:11<00:00,  1.84it/s, avergae_loss=0.785, running_accuracy=0.786]\n",
      "Epoch: 4/24: 100%|██████████| 22/22 [00:11<00:00,  1.89it/s, avergae_loss=0.66, running_accuracy=0.786] \n",
      "Epoch: 5/24: 100%|██████████| 22/22 [00:11<00:00,  1.83it/s, avergae_loss=0.656, running_accuracy=0.786]\n",
      "Epoch: 6/24: 100%|██████████| 22/22 [00:11<00:00,  1.84it/s, avergae_loss=0.49, running_accuracy=0.786] \n",
      "Epoch: 7/24: 100%|██████████| 22/22 [00:11<00:00,  1.87it/s, avergae_loss=0.409, running_accuracy=0.929]\n",
      "Epoch: 8/24: 100%|██████████| 22/22 [00:11<00:00,  1.84it/s, avergae_loss=0.434, running_accuracy=0.714]\n",
      "Epoch: 9/24: 100%|██████████| 22/22 [00:11<00:00,  1.90it/s, avergae_loss=0.391, running_accuracy=0.786]\n",
      "Epoch: 10/24: 100%|██████████| 22/22 [00:11<00:00,  1.89it/s, avergae_loss=0.362, running_accuracy=0.929]\n",
      "Epoch: 11/24: 100%|██████████| 22/22 [00:11<00:00,  1.86it/s, avergae_loss=0.323, running_accuracy=0.929]\n",
      "Epoch: 12/24: 100%|██████████| 22/22 [00:12<00:00,  1.72it/s, avergae_loss=0.296, running_accuracy=1]    \n",
      "Epoch: 13/24: 100%|██████████| 22/22 [00:11<00:00,  1.86it/s, avergae_loss=0.334, running_accuracy=0.857]\n",
      "Epoch: 14/24: 100%|██████████| 22/22 [00:11<00:00,  1.85it/s, avergae_loss=0.357, running_accuracy=0.786]\n",
      "Epoch: 15/24: 100%|██████████| 22/22 [00:11<00:00,  1.87it/s, avergae_loss=0.413, running_accuracy=0.786]\n",
      "Epoch: 16/24: 100%|██████████| 22/22 [00:11<00:00,  1.88it/s, avergae_loss=0.376, running_accuracy=0.857]\n",
      "Epoch: 17/24: 100%|██████████| 22/22 [00:11<00:00,  1.91it/s, avergae_loss=0.371, running_accuracy=0.786]\n",
      "Epoch: 18/24: 100%|██████████| 22/22 [00:11<00:00,  1.84it/s, avergae_loss=0.296, running_accuracy=0.857]\n",
      "Epoch: 19/24: 100%|██████████| 22/22 [00:11<00:00,  1.90it/s, avergae_loss=0.262, running_accuracy=0.714]\n",
      "Epoch: 20/24: 100%|██████████| 22/22 [00:11<00:00,  1.88it/s, avergae_loss=0.247, running_accuracy=0.857]\n",
      "Epoch: 21/24: 100%|██████████| 22/22 [00:11<00:00,  1.89it/s, avergae_loss=0.213, running_accuracy=1]    \n",
      "Epoch: 22/24: 100%|██████████| 22/22 [00:12<00:00,  1.75it/s, avergae_loss=0.338, running_accuracy=0.786]\n",
      "Epoch: 23/24: 100%|██████████| 22/22 [00:13<00:00,  1.66it/s, avergae_loss=0.262, running_accuracy=0.929]\n",
      "Epoch: 24/24: 100%|██████████| 22/22 [00:11<00:00,  1.85it/s, avergae_loss=0.277, running_accuracy=0.929]"
     ]
    },
    {
     "name": "stdout",
     "output_type": "stream",
     "text": [
      "---------- FINAL RESULTS ----------\n",
      "Losses fot every epoch: [5.369963353330439, 0.9959360767494548, 0.7853192985057831, 0.6600350398908962, 0.6564003987745806, 0.4895555410872806, 0.4093782657926733, 0.43366342918439343, 0.39104930379173974, 0.3619141260331327, 0.32328908856619487, 0.29647820840843697, 0.33398534763943066, 0.3574068153446371, 0.41259434683756396, 0.3756222674115138, 0.3705765503374013, 0.2964827794242989, 0.26204031180929055, 0.24674516255882653, 0.21342520087703384, 0.33793801915916527, 0.26191372492096643, 0.2770949338816784]\n",
      "Average accuracy for each epoch: [0.41428571939468384, 0.5914285778999329, 0.668571412563324, 0.7085714340209961, 0.7428571581840515, 0.7771428823471069, 0.8371428847312927, 0.8114285469055176, 0.8257142901420593, 0.8428571224212646, 0.8799999952316284, 0.8799999952316284, 0.8514285683631897, 0.8742856979370117, 0.8114285469055176, 0.831428587436676, 0.845714271068573, 0.8771428465843201, 0.8885714411735535, 0.9028571248054504, 0.9200000166893005, 0.8657143115997314, 0.8885714411735535, 0.8799999952316284]\n",
      "----------------------------------------\n"
     ]
    },
    {
     "name": "stderr",
     "output_type": "stream",
     "text": [
      "\n"
     ]
    }
   ],
   "source": [
    "losses, accuracies = train(cnn, epochs, train_dataloader, optimizer, loss_func)"
   ],
   "metadata": {
    "collapsed": false,
    "pycharm": {
     "name": "#%%\n"
    }
   }
  },
  {
   "cell_type": "markdown",
   "source": [
    "### Evaluate model"
   ],
   "metadata": {
    "collapsed": false
   }
  },
  {
   "cell_type": "code",
   "execution_count": 42,
   "outputs": [],
   "source": [
    "# load test set and create dataloader\n",
    "test_set = DefaultTestSet()\n",
    "test_loader = DataLoader(test_set)\n",
    "test_y = [i['label'] for i in test_set]"
   ],
   "metadata": {
    "collapsed": false,
    "pycharm": {
     "name": "#%%\n"
    }
   }
  },
  {
   "cell_type": "code",
   "execution_count": 43,
   "outputs": [
    {
     "name": "stderr",
     "output_type": "stream",
     "text": [
      "100%|██████████| 50/50 [00:01<00:00, 40.30it/s]\n"
     ]
    }
   ],
   "source": [
    "def predict(_model, _tests):\n",
    "  predicts = []\n",
    "  with th.no_grad():\n",
    "    for i in tqdm(_tests):\n",
    "        _model.eval()\n",
    "        images = i['imNorm'].clone().to(device)\n",
    "        outputs = _model(images)\n",
    "        _, predicted = th.max(outputs.data, 1)\n",
    "        predicts.append(predicted.item())\n",
    "  return predicts\n",
    "\n",
    "cnn.load_state_dict(th.load('Outputs/models/deeperCNN.pth'))\n",
    "predict_y = predict(cnn, test_loader)"
   ],
   "metadata": {
    "collapsed": false,
    "pycharm": {
     "name": "#%%\n"
    }
   }
  },
  {
   "cell_type": "code",
   "execution_count": 44,
   "outputs": [
    {
     "name": "stdout",
     "output_type": "stream",
     "text": [
      "[[ 3.  6.  0.  0.  1.]\n",
      " [ 0.  8.  2.  0.  0.]\n",
      " [ 0.  4.  6.  0.  0.]\n",
      " [ 0.  5.  0.  5.  0.]\n",
      " [ 0.  0.  0.  0. 10.]]\n",
      "the accuracy by class faces : 0.3\n",
      "the accuracy by class dog : 0.8\n",
      "the accuracy by class airplanes : 0.6\n",
      "the accuracy by class keyboard : 0.5\n",
      "the accuracy by class cars : 1.0\n",
      "overall accuracy : 0.64\n"
     ]
    }
   ],
   "source": [
    "correct = []\n",
    "incorrect = []\n",
    "for i, j in enumerate(predict_y):\n",
    "    if j == test_y[i]:\n",
    "      correct.append(i)\n",
    "    else:\n",
    "      incorrect.append(i)\n",
    "\n",
    "# generate confusion matrix\n",
    "def confusion_matrix(y_true, y_pred):\n",
    "  n_class = np.unique(y_true).shape[0]\n",
    "  cm = np.zeros((n_class, n_class))\n",
    "  for i in range(len(y_true)):\n",
    "    cm[y_true[i], y_pred[i]] += 1\n",
    "  return cm\n",
    "\n",
    "\n",
    "cm = confusion_matrix(test_y, predict_y)\n",
    "print(cm)\n",
    "\n",
    "def print_accuracy(cm):\n",
    "  for i in range(5):\n",
    "    print(f'the accuracy by class {class_label[i]} : {cm[i, i] / np.sum(cm[i, :])}')\n",
    "  # overall accuracy\n",
    "  print(f'overall accuracy : {np.sum(cm[range(5), range(5)]) / np.sum(cm)}')\n",
    "\n",
    "print_accuracy(cm)"
   ],
   "metadata": {
    "collapsed": false,
    "pycharm": {
     "name": "#%%\n"
    }
   }
  }
 ],
 "metadata": {
  "kernelspec": {
   "display_name": "Python 3",
   "language": "python",
   "name": "python3"
  },
  "language_info": {
   "codemirror_mode": {
    "name": "ipython",
    "version": 2
   },
   "file_extension": ".py",
   "mimetype": "text/x-python",
   "name": "python",
   "nbconvert_exporter": "python",
   "pygments_lexer": "ipython2",
   "version": "2.7.6"
  }
 },
 "nbformat": 4,
 "nbformat_minor": 0
}
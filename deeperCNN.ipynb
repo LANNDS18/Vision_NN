{
 "cells": [
  {
   "cell_type": "markdown",
   "source": [
    "### Training with deeper CNN"
   ],
   "metadata": {
    "collapsed": false
   }
  },
  {
   "cell_type": "code",
   "execution_count": 21,
   "metadata": {
    "collapsed": true
   },
   "outputs": [],
   "source": [
    "import numpy as np\n",
    "import torch as th\n",
    "import torch.optim as optim\n",
    "\n",
    "from torch import nn\n",
    "from torch.utils.data import DataLoader\n",
    "from cnn import CNN\n",
    "from tqdm import tqdm\n",
    "from imgdata import DefaultTrainSet, DefaultTestSet"
   ]
  },
  {
   "cell_type": "code",
   "execution_count": 22,
   "outputs": [
    {
     "data": {
      "text/plain": "device(type='cpu')"
     },
     "execution_count": 22,
     "metadata": {},
     "output_type": "execute_result"
    }
   ],
   "source": [
    "%matplotlib inline\n",
    "\n",
    "if th.cuda.is_available():\n",
    "  # Make CuDNN Determinist\n",
    "  th.backends.cudnn.deterministic = True\n",
    "\n",
    "# Define default device, we should use the GPU (cuda) if available\n",
    "device = th.device(\"cuda\" if th.cuda.is_available() else \"cpu\")\n",
    "device"
   ],
   "metadata": {
    "collapsed": false,
    "pycharm": {
     "name": "#%%\n"
    }
   }
  },
  {
   "cell_type": "markdown",
   "source": [
    "### Set constants"
   ],
   "metadata": {
    "collapsed": false
   }
  },
  {
   "cell_type": "code",
   "execution_count": 23,
   "outputs": [],
   "source": [
    "lr = 1e-4\n",
    "epochs = 25\n",
    "batch_size = 16\n",
    "class_label = ['faces', 'dog', 'airplanes', 'keyboard', 'cars']"
   ],
   "metadata": {
    "collapsed": false,
    "pycharm": {
     "name": "#%%\n"
    }
   }
  },
  {
   "cell_type": "code",
   "execution_count": 24,
   "outputs": [],
   "source": [
    "train_set = DefaultTrainSet()\n",
    "\n",
    "train_dataloader = th.utils.data.DataLoader(train_set, batch_size=batch_size, shuffle=True)"
   ],
   "metadata": {
    "collapsed": false,
    "pycharm": {
     "name": "#%%\n"
    }
   }
  },
  {
   "cell_type": "markdown",
   "source": [
    "### Define model"
   ],
   "metadata": {
    "collapsed": false
   }
  },
  {
   "cell_type": "code",
   "execution_count": 25,
   "outputs": [],
   "source": [
    "cnn = CNN()\n",
    "fc_inputs = 64 * 30 * 30"
   ],
   "metadata": {
    "collapsed": false,
    "pycharm": {
     "name": "#%%\n"
    }
   }
  },
  {
   "cell_type": "code",
   "execution_count": 26,
   "outputs": [],
   "source": [
    "cnn.fc = nn.Sequential(\n",
    "    nn.Linear(fc_inputs, 256),\n",
    "    nn.ReLU(),\n",
    "    nn.Dropout(0.4),\n",
    "    nn.Linear(256, 5)\n",
    ")"
   ],
   "metadata": {
    "collapsed": false,
    "pycharm": {
     "name": "#%%\n"
    }
   }
  },
  {
   "cell_type": "code",
   "execution_count": 27,
   "outputs": [],
   "source": [
    "loss_func = nn.CrossEntropyLoss()\n",
    "optimizer = optim.Adam(cnn.parameters(), lr=lr)"
   ],
   "metadata": {
    "collapsed": false,
    "pycharm": {
     "name": "#%%\n"
    }
   }
  },
  {
   "cell_type": "markdown",
   "source": [
    "### Train model"
   ],
   "metadata": {
    "collapsed": false
   }
  },
  {
   "cell_type": "code",
   "execution_count": 28,
   "outputs": [],
   "source": [
    "def train(_net, n_epochs, train_loader, _optimizer, _criterion):\n",
    "    \"\"\"\n",
    "    Train a neural network and print statistics of the training\n",
    "\n",
    "    :param _criterion:\n",
    "    :param _optimizer:\n",
    "    :param train_loader: loader for the training data\n",
    "    :param _net: (PyTorch Neural Network)\n",
    "    :param n_epochs: (int)  Number of iterations on the training set\n",
    "    \"\"\"\n",
    "    print(\"---------- HYPERPARAMETERS ----------\")\n",
    "    print(\"n_epochs=\", n_epochs)\n",
    "    print(\"-\" * 40)\n",
    "    accuracies = []\n",
    "    losses = []\n",
    "    # Move model to gpu if possible\n",
    "    _net = _net.to(device)\n",
    "    for epoch_count, epoch in enumerate(range(n_epochs)):\n",
    "        # Set the model to training mode\n",
    "        _net.train()\n",
    "        # Initialize the variables to compute the average loss\n",
    "        total_loss = 0.00\n",
    "        total_correct = 0\n",
    "        pbar = tqdm(train_loader)\n",
    "        # Iterate over the training set\n",
    "        for i, data in enumerate(pbar):\n",
    "\n",
    "            # Get the inputs\n",
    "            inputs, labels = data['imNorm'], data['label']\n",
    "            # Move them to the correct device\n",
    "            inputs = inputs.to(device)\n",
    "            labels = labels.to(device)\n",
    "\n",
    "            # Zero the parameter gradients\n",
    "            _optimizer.zero_grad()\n",
    "\n",
    "            # Forward pass\n",
    "            outputs = _net(inputs)\n",
    "             # Calculate Loss: softmax --> cross entropy loss\n",
    "            loss = _criterion(outputs, labels)\n",
    "            _, preds = th.max(outputs, 1)\n",
    "            # Getting gradients w.r.t. parameters\n",
    "            loss.backward()\n",
    "\n",
    "            # Updating parameters\n",
    "            _optimizer.step()\n",
    "\n",
    "            # Update the running variables\n",
    "            total_loss += loss.item()\n",
    "            avg_loss = total_loss / (i + 1)\n",
    "            total_correct += th.sum(preds == labels.data)\n",
    "            pbar.set_description(\"Epoch: {}/{}\".format(epoch_count + 1, n_epochs))\n",
    "            pbar.set_postfix(avergae_loss=avg_loss, running_accuracy=th.sum(preds == labels).item() / float(labels.size(0)))\n",
    "            # save the model\n",
    "            model_name = f\"Outputs/models/deeperCNN.pth\"\n",
    "            th.save(_net.state_dict(), model_name)\n",
    "\n",
    "        # Calculate the average loss and accuracy of the epoch\n",
    "        losses.append(total_loss/len(train_loader))\n",
    "        accuracies.append((total_correct/train_loader.sampler.num_samples).item())\n",
    "        # print losses and accuracies in the last epoch\n",
    "        if epoch_count == n_epochs - 1:\n",
    "            print(\"---------- FINAL RESULTS ----------\")\n",
    "            print(\"Losses fot every epoch:\", losses)\n",
    "            print(\"Average accuracy for each epoch: {}\".format(accuracies))\n",
    "            print(\"-\" * 40)\n",
    "    return losses, accuracies"
   ],
   "metadata": {
    "collapsed": false,
    "pycharm": {
     "name": "#%%\n"
    }
   }
  },
  {
   "cell_type": "code",
   "execution_count": 29,
   "outputs": [
    {
     "name": "stdout",
     "output_type": "stream",
     "text": [
      "---------- HYPERPARAMETERS ----------\n",
      "n_epochs= 25\n",
      "----------------------------------------\n"
     ]
    },
    {
     "name": "stderr",
     "output_type": "stream",
     "text": [
      "Epoch: 1/25: 100%|██████████| 22/22 [00:17<00:00,  1.25it/s, avergae_loss=1.93, running_accuracy=0.571]\n",
      "Epoch: 2/25: 100%|██████████| 22/22 [00:15<00:00,  1.42it/s, avergae_loss=0.675, running_accuracy=0.857]\n",
      "Epoch: 3/25: 100%|██████████| 22/22 [00:13<00:00,  1.62it/s, avergae_loss=0.498, running_accuracy=0.786]\n",
      "Epoch: 4/25: 100%|██████████| 22/22 [00:13<00:00,  1.61it/s, avergae_loss=0.366, running_accuracy=0.929]\n",
      "Epoch: 5/25: 100%|██████████| 22/22 [00:13<00:00,  1.62it/s, avergae_loss=0.272, running_accuracy=1]    \n",
      "Epoch: 6/25: 100%|██████████| 22/22 [00:13<00:00,  1.63it/s, avergae_loss=0.212, running_accuracy=0.929]\n",
      "Epoch: 7/25: 100%|██████████| 22/22 [00:13<00:00,  1.63it/s, avergae_loss=0.134, running_accuracy=1]    \n",
      "Epoch: 8/25: 100%|██████████| 22/22 [00:13<00:00,  1.58it/s, avergae_loss=0.0995, running_accuracy=1]   \n",
      "Epoch: 9/25: 100%|██████████| 22/22 [00:14<00:00,  1.50it/s, avergae_loss=0.0866, running_accuracy=0.929]\n",
      "Epoch: 10/25: 100%|██████████| 22/22 [00:13<00:00,  1.64it/s, avergae_loss=0.0745, running_accuracy=0.857]\n",
      "Epoch: 11/25: 100%|██████████| 22/22 [00:13<00:00,  1.62it/s, avergae_loss=0.0502, running_accuracy=1]    \n",
      "Epoch: 12/25: 100%|██████████| 22/22 [00:13<00:00,  1.63it/s, avergae_loss=0.0598, running_accuracy=0.857]\n",
      "Epoch: 13/25: 100%|██████████| 22/22 [00:13<00:00,  1.64it/s, avergae_loss=0.0764, running_accuracy=0.929]\n",
      "Epoch: 14/25: 100%|██████████| 22/22 [00:13<00:00,  1.66it/s, avergae_loss=0.0526, running_accuracy=1]    \n",
      "Epoch: 15/25: 100%|██████████| 22/22 [00:13<00:00,  1.65it/s, avergae_loss=0.0403, running_accuracy=1]    \n",
      "Epoch: 16/25: 100%|██████████| 22/22 [00:12<00:00,  1.69it/s, avergae_loss=0.0232, running_accuracy=1]\n",
      "Epoch: 17/25: 100%|██████████| 22/22 [00:13<00:00,  1.65it/s, avergae_loss=0.0266, running_accuracy=1]    \n",
      "Epoch: 18/25: 100%|██████████| 22/22 [00:13<00:00,  1.66it/s, avergae_loss=0.0184, running_accuracy=1]\n",
      "Epoch: 19/25: 100%|██████████| 22/22 [00:13<00:00,  1.69it/s, avergae_loss=0.0206, running_accuracy=1]   \n",
      "Epoch: 20/25: 100%|██████████| 22/22 [00:13<00:00,  1.68it/s, avergae_loss=0.0183, running_accuracy=1]    \n",
      "Epoch: 21/25: 100%|██████████| 22/22 [00:13<00:00,  1.66it/s, avergae_loss=0.0148, running_accuracy=1]   \n",
      "Epoch: 22/25: 100%|██████████| 22/22 [00:13<00:00,  1.67it/s, avergae_loss=0.0138, running_accuracy=1]\n",
      "Epoch: 23/25: 100%|██████████| 22/22 [00:13<00:00,  1.68it/s, avergae_loss=0.00972, running_accuracy=1]\n",
      "Epoch: 24/25: 100%|██████████| 22/22 [00:13<00:00,  1.66it/s, avergae_loss=0.00714, running_accuracy=1]\n",
      "Epoch: 25/25: 100%|██████████| 22/22 [00:13<00:00,  1.65it/s, avergae_loss=0.0113, running_accuracy=1]   "
     ]
    },
    {
     "name": "stdout",
     "output_type": "stream",
     "text": [
      "---------- FINAL RESULTS ----------\n",
      "Losses fot every epoch: [1.9271153861826116, 0.6749441894617948, 0.49776759269562637, 0.3656607930633155, 0.2724817950617183, 0.2123952717943625, 0.13434427146884528, 0.0995273338207467, 0.08660318135199221, 0.07446989311244, 0.05020524317991327, 0.059764871881766754, 0.07643645352006635, 0.05262225438756021, 0.04026477105534551, 0.02323203709569167, 0.02657177110879936, 0.01839774085039442, 0.02060456777160818, 0.018285252032166518, 0.0148158241645433, 0.01375924391058189, 0.009718566609080881, 0.0071413194951178, 0.01134635950174098]\n",
      "Average accuracy for each epoch: [0.49714285135269165, 0.7571428418159485, 0.8199999928474426, 0.8742856979370117, 0.9057142734527588, 0.9142857193946838, 0.9657142758369446, 0.9685714244842529, 0.9800000190734863, 0.977142870426178, 0.9885714054107666, 0.9857142567634583, 0.9828571677207947, 0.9942857027053833, 0.9885714054107666, 1.0, 0.9885714054107666, 1.0, 0.9942857027053833, 0.9971428513526917, 0.9971428513526917, 1.0, 1.0, 1.0, 0.9971428513526917]\n",
      "----------------------------------------\n"
     ]
    },
    {
     "name": "stderr",
     "output_type": "stream",
     "text": [
      "\n"
     ]
    }
   ],
   "source": [
    "losses, accuracies = train(cnn, epochs, train_dataloader, optimizer, loss_func)"
   ],
   "metadata": {
    "collapsed": false,
    "pycharm": {
     "name": "#%%\n"
    }
   }
  },
  {
   "cell_type": "markdown",
   "source": [
    "### Evaluate model"
   ],
   "metadata": {
    "collapsed": false
   }
  },
  {
   "cell_type": "code",
   "execution_count": 30,
   "outputs": [],
   "source": [
    "# load test set and create dataloader\n",
    "test_set = DefaultTestSet()\n",
    "test_loader = DataLoader(test_set)\n",
    "test_y = [i['label'] for i in test_set]"
   ],
   "metadata": {
    "collapsed": false,
    "pycharm": {
     "name": "#%%\n"
    }
   }
  },
  {
   "cell_type": "code",
   "execution_count": 31,
   "outputs": [
    {
     "name": "stderr",
     "output_type": "stream",
     "text": [
      "100%|██████████| 50/50 [00:00<00:00, 54.44it/s]\n"
     ]
    }
   ],
   "source": [
    "def predict(_model, _tests):\n",
    "  predicts = []\n",
    "  with th.no_grad():\n",
    "    for i in tqdm(_tests):\n",
    "        _model.eval()\n",
    "        images = i['imNorm'].clone().to(device)\n",
    "        outputs = _model(images)\n",
    "        _, predicted = th.max(outputs.data, 1)\n",
    "        predicts.append(predicted.item())\n",
    "  return predicts\n",
    "\n",
    "cnn.load_state_dict(th.load('Outputs/models/deeperCNN.pth'))\n",
    "predict_y = predict(cnn, test_loader)"
   ],
   "metadata": {
    "collapsed": false,
    "pycharm": {
     "name": "#%%\n"
    }
   }
  },
  {
   "cell_type": "code",
   "execution_count": 32,
   "outputs": [
    {
     "name": "stdout",
     "output_type": "stream",
     "text": [
      "[[ 6.  2.  0.  1.  1.]\n",
      " [ 0.  8.  0.  2.  0.]\n",
      " [ 0.  3.  7.  0.  0.]\n",
      " [ 0.  4.  0.  5.  1.]\n",
      " [ 0.  0.  0.  0. 10.]]\n",
      "the accuracy by class faces : 0.6\n",
      "the accuracy by class dog : 0.8\n",
      "the accuracy by class airplanes : 0.7\n",
      "the accuracy by class keyboard : 0.5\n",
      "the accuracy by class cars : 1.0\n",
      "overall accuracy : 0.72\n"
     ]
    }
   ],
   "source": [
    "correct = []\n",
    "incorrect = []\n",
    "for i, j in enumerate(predict_y):\n",
    "    if j == test_y[i]:\n",
    "      correct.append(i)\n",
    "    else:\n",
    "      incorrect.append(i)\n",
    "\n",
    "# generate confusion matrix\n",
    "def confusion_matrix(y_true, y_pred):\n",
    "  n_class = np.unique(y_true).shape[0]\n",
    "  cm = np.zeros((n_class, n_class))\n",
    "  for i in range(len(y_true)):\n",
    "    cm[y_true[i], y_pred[i]] += 1\n",
    "  return cm\n",
    "\n",
    "\n",
    "cm = confusion_matrix(test_y, predict_y)\n",
    "print(cm)\n",
    "\n",
    "def print_accuracy(cm):\n",
    "  for i in range(5):\n",
    "    print(f'the accuracy by class {class_label[i]} : {cm[i, i] / np.sum(cm[i, :])}')\n",
    "  # overall accuracy\n",
    "  print(f'overall accuracy : {np.sum(cm[range(5), range(5)]) / np.sum(cm)}')\n",
    "\n",
    "print_accuracy(cm)"
   ],
   "metadata": {
    "collapsed": false,
    "pycharm": {
     "name": "#%%\n"
    }
   }
  }
 ],
 "metadata": {
  "kernelspec": {
   "display_name": "Python 3",
   "language": "python",
   "name": "python3"
  },
  "language_info": {
   "codemirror_mode": {
    "name": "ipython",
    "version": 2
   },
   "file_extension": ".py",
   "mimetype": "text/x-python",
   "name": "python",
   "nbconvert_exporter": "python",
   "pygments_lexer": "ipython2",
   "version": "2.7.6"
  }
 },
 "nbformat": 4,
 "nbformat_minor": 0
}
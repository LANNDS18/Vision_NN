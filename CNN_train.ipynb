{
 "cells": [
  {
   "cell_type": "code",
   "execution_count": 1,
   "outputs": [],
   "source": [
    "import matplotlib.pyplot as plt\n",
    "import numpy as np\n",
    "import torch as th\n",
    "\n",
    "from cnn import CNN, createLossAndOptimizer\n",
    "from torch.utils.data import DataLoader\n",
    "from tqdm import tqdm\n",
    "\n",
    "from imgdata import DefaultTrainSet"
   ],
   "metadata": {
    "collapsed": false,
    "pycharm": {
     "name": "#%%\n"
    }
   }
  },
  {
   "cell_type": "code",
   "execution_count": 2,
   "outputs": [
    {
     "data": {
      "text/plain": "device(type='cpu')"
     },
     "execution_count": 2,
     "metadata": {},
     "output_type": "execute_result"
    }
   ],
   "source": [
    "%matplotlib inline\n",
    "\n",
    "if th.cuda.is_available():\n",
    "  # Make CuDNN Determinist\n",
    "  th.backends.cudnn.deterministic = True\n",
    "\n",
    "# Define default device, we should use the GPU (cuda) if available\n",
    "device = th.device(\"cuda\" if th.cuda.is_available() else \"cpu\")\n",
    "device"
   ],
   "metadata": {
    "collapsed": false,
    "pycharm": {
     "name": "#%%\n"
    }
   }
  },
  {
   "cell_type": "markdown",
   "source": [
    "### Set Constants\n",
    "define learning rate as a list of values, and the number of epochs and batch size"
   ],
   "metadata": {
    "collapsed": false
   }
  },
  {
   "cell_type": "code",
   "execution_count": 3,
   "outputs": [],
   "source": [
    "learning_rates = [1e-2, 1e-3, 1e-4, 1e-5]\n",
    "batch_size = 16\n",
    "num_epochs = 20"
   ],
   "metadata": {
    "collapsed": false,
    "pycharm": {
     "name": "#%%\n"
    }
   }
  },
  {
   "cell_type": "markdown",
   "source": [
    "### Load data\n",
    "using the DefaultTrainSet class from imgdata.py"
   ],
   "metadata": {
    "collapsed": false
   }
  },
  {
   "cell_type": "code",
   "execution_count": 4,
   "outputs": [],
   "source": [
    "train_set = DefaultTrainSet()\n",
    "\n",
    "train_dataloader = th.utils.data.DataLoader(train_set, batch_size=batch_size, shuffle=True)"
   ],
   "metadata": {
    "collapsed": false,
    "pycharm": {
     "name": "#%%\n"
    }
   }
  },
  {
   "cell_type": "markdown",
   "source": [
    "### Define the training function"
   ],
   "metadata": {
    "collapsed": false
   }
  },
  {
   "cell_type": "code",
   "execution_count": 5,
   "outputs": [],
   "source": [
    "def train(net, batch, n_epochs, lr, train_loader):\n",
    "    \"\"\"\n",
    "    Train a neural network and print statistics of the training\n",
    "\n",
    "    :param train_loader: loader for the training data\n",
    "    :param net: (PyTorch Neural Network)\n",
    "    :param batch: (int)\n",
    "    :param n_epochs: (int)  Number of iterations on the training set\n",
    "    :param lr: (float) learning rate used by the optimizer\n",
    "    \"\"\"\n",
    "    print(\"---------- HYPERPARAMETERS ----------\")\n",
    "    print(\"batch_size=\", batch)\n",
    "    print(\"n_epochs=\", n_epochs)\n",
    "    print(\"learning_rate=\", lr)\n",
    "    print(\"-\" * 40)\n",
    "    accuracies = []\n",
    "    losses = []\n",
    "    criterion, optimizer = createLossAndOptimizer(net, lr)\n",
    "    # Move model to gpu if possible\n",
    "    net = net.to(device)\n",
    "    for epoch_count, epoch in enumerate(range(n_epochs)):\n",
    "        # Set the model to training mode\n",
    "        net.train()\n",
    "        # Initialize the variables to compute the average loss\n",
    "        total_loss = 0.00\n",
    "        avg_loss = 0.00\n",
    "        total_correct = 0\n",
    "        pbar = tqdm(train_loader, leave=False)\n",
    "        # Iterate over the training set\n",
    "        for i, data in enumerate(pbar):\n",
    "\n",
    "            # Get the inputs\n",
    "            inputs, labels = data['imNorm'], data['label']\n",
    "            # Move them to the correct device\n",
    "            inputs = inputs.to(device)\n",
    "            labels = labels.to(device)\n",
    "            net = net.to(device)\n",
    "\n",
    "            # Zero the parameter gradients\n",
    "            optimizer.zero_grad()\n",
    "\n",
    "            # Forward pass\n",
    "            outputs = net(inputs)\n",
    "             # Calculate Loss: softmax --> cross entropy loss\n",
    "            loss = criterion(outputs, labels)\n",
    "            \n",
    "            _, preds = th.max(outputs, 1)\n",
    "\n",
    "            # Getting gradients w.r.t. parameters\n",
    "            loss.backward()\n",
    "\n",
    "            # Updating parameters\n",
    "            optimizer.step()\n",
    "\n",
    "            # Update the running variables\n",
    "            total_loss += loss.item()\n",
    "            avg_loss = total_loss / (i + 1)\n",
    "            total_correct += th.sum(preds == labels.data)\n",
    "            pbar.set_description(\"Epoch: {}/{}\".format(epoch_count + 1, n_epochs))\n",
    "            pbar.set_postfix(avergae_loss=avg_loss, running_accuracy=th.sum(preds == labels).item() / float(labels.size(0)))\n",
    "            # save the model\n",
    "            model_name = f\"Outputs/models/model_{num_epochs}_epochs_learning_rate_{lr}.pth\"\n",
    "            th.save(net.state_dict(), model_name)\n",
    "\n",
    "        # Calculate the average loss and accuracy of the epoch\n",
    "        losses.append(total_loss/len(train_loader))\n",
    "        accuracies.append((total_correct/train_loader.sampler.num_samples).item())\n",
    "        # print losses and accuracies in the last epoch\n",
    "        if epoch_count == n_epochs - 1:\n",
    "            print(\"---------- FINAL RESULTS ----------\")\n",
    "            print(\"Losses fot every epoch:\", losses)\n",
    "            print(\"Average accuracy for each epoch: {}\".format(accuracies))\n",
    "            print(\"-\" * 40)\n",
    "    return losses, accuracies"
   ],
   "metadata": {
    "collapsed": false,
    "pycharm": {
     "name": "#%%\n"
    }
   }
  },
  {
   "cell_type": "code",
   "execution_count": 6,
   "outputs": [
    {
     "name": "stdout",
     "output_type": "stream",
     "text": [
      "Training with learning rate 0.01\n",
      "\n",
      "---------- HYPERPARAMETERS ----------\n",
      "batch_size= 16\n",
      "n_epochs= 20\n",
      "learning_rate= 0.01\n",
      "----------------------------------------\n"
     ]
    },
    {
     "name": "stderr",
     "output_type": "stream",
     "text": [
      "                                                                                                         \r"
     ]
    },
    {
     "name": "stdout",
     "output_type": "stream",
     "text": [
      "---------- FINAL RESULTS ----------\n",
      "Losses fot every epoch: [104.96033334732056, 25.165923313661054, 7.954259493134239, 3.850940493019891, 7.652617286683711, 3.3344720036202484, 2.1864193385110764, 1.6461640666557324, 1.2962812190137176, 1.6930648408059759, 0.800819075785986, 0.45968495888714433, 0.5423279638606057, 0.6897547839014971, 1.0628870557650265, 0.6200065025213071, 0.34914616128785075, 0.4216768116846042, 0.31602704144072563, 2.682159618446049e-07]\n",
      "Average accuracy for each epoch: [0.43714284896850586, 0.6828571557998657, 0.7771428823471069, 0.854285717010498, 0.831428587436676, 0.8885714411735535, 0.8942857384681702, 0.9142857193946838, 0.9457142949104309, 0.954285740852356, 0.9599999785423279, 0.9714285731315613, 0.9685714244842529, 0.9571428298950195, 0.954285740852356, 0.977142870426178, 0.9857142567634583, 0.977142870426178, 0.9828571677207947, 1.0]\n",
      "----------------------------------------\n",
      "----------------------------------------\n",
      "Training with learning rate 0.001\n",
      "\n",
      "---------- HYPERPARAMETERS ----------\n",
      "batch_size= 16\n",
      "n_epochs= 20\n",
      "learning_rate= 0.001\n",
      "----------------------------------------\n"
     ]
    },
    {
     "name": "stderr",
     "output_type": "stream",
     "text": [
      "                                                                                                          \r"
     ]
    },
    {
     "name": "stdout",
     "output_type": "stream",
     "text": [
      "---------- FINAL RESULTS ----------\n",
      "Losses fot every epoch: [12.920003002340144, 2.9581039409544743, 0.9101594215555285, 0.5026930858359926, 0.8778183410071175, 0.5591610752369227, 0.32047017826500285, 0.2107770241726195, 0.3681904586760952, 0.22645918471217835, 0.2478557192217853, 0.1329798554068227, 0.1273177160577118, 0.10634908141678324, 0.45398322635649246, 0.8248824364611628, 0.1851118872695767, 0.12695107332498515, 0.1889187481631735, 0.2554784416606914]\n",
      "Average accuracy for each epoch: [0.43714284896850586, 0.7285714149475098, 0.8714285492897034, 0.8971428275108337, 0.8914285898208618, 0.9171428680419922, 0.9399999976158142, 0.9485714435577393, 0.9428571462631226, 0.9514285922050476, 0.9685714244842529, 0.9685714244842529, 0.9800000190734863, 0.9742857217788696, 0.9428571462631226, 0.9285714030265808, 0.977142870426178, 0.9714285731315613, 0.9628571271896362, 0.9685714244842529]\n",
      "----------------------------------------\n",
      "----------------------------------------\n",
      "Training with learning rate 0.0001\n",
      "\n",
      "---------- HYPERPARAMETERS ----------\n",
      "batch_size= 16\n",
      "n_epochs= 20\n",
      "learning_rate= 0.0001\n",
      "----------------------------------------\n"
     ]
    },
    {
     "name": "stderr",
     "output_type": "stream",
     "text": [
      "                                                                                                         \r"
     ]
    },
    {
     "name": "stdout",
     "output_type": "stream",
     "text": [
      "---------- FINAL RESULTS ----------\n",
      "Losses fot every epoch: [1.7346258014440536, 0.5729859105565331, 0.24399793215773322, 0.14236373877660793, 0.0772657533260909, 0.04818858790465377, 0.031218154228885065, 0.025364421752535483, 0.02060243110595779, 0.019464279800145465, 0.014026526128873229, 0.011398585492067716, 0.010941669810563326, 0.008306732485917482, 0.007943184781734917, 0.007253446531566707, 0.006313255003822798, 0.006717388465238566, 0.005019770892844958, 0.0051267908949574285]\n",
      "Average accuracy for each epoch: [0.488571435213089, 0.8285714387893677, 0.9257143139839172, 0.9599999785423279, 0.9942857027053833, 1.0, 1.0, 1.0, 1.0, 1.0, 1.0, 1.0, 1.0, 1.0, 1.0, 1.0, 1.0, 1.0, 1.0, 1.0]\n",
      "----------------------------------------\n",
      "----------------------------------------\n",
      "Training with learning rate 1e-05\n",
      "\n",
      "---------- HYPERPARAMETERS ----------\n",
      "batch_size= 16\n",
      "n_epochs= 20\n",
      "learning_rate= 1e-05\n",
      "----------------------------------------\n"
     ]
    },
    {
     "name": "stderr",
     "output_type": "stream",
     "text": [
      "                                                                                                         "
     ]
    },
    {
     "name": "stdout",
     "output_type": "stream",
     "text": [
      "---------- FINAL RESULTS ----------\n",
      "Losses fot every epoch: [1.3823573101650586, 0.8938782567327673, 0.6868058361790397, 0.5696391300721602, 0.4792024669322101, 0.4258406419645656, 0.3734537051482634, 0.32240055027333175, 0.29808279601010407, 0.2612051584503867, 0.2353347143666311, 0.20554737069390036, 0.1983242810449817, 0.17475453256206078, 0.1550966870378364, 0.1381576084955172, 0.12756814299659294, 0.11444375223734161, 0.11115819097242573, 0.0997954998165369]\n",
      "Average accuracy for each epoch: [0.4114285707473755, 0.7342857122421265, 0.7857142686843872, 0.8199999928474426, 0.854285717010498, 0.8885714411735535, 0.9200000166893005, 0.9371428489685059, 0.9371428489685059, 0.9628571271896362, 0.9628571271896362, 0.9742857217788696, 0.9599999785423279, 0.9857142567634583, 0.991428554058075, 0.991428554058075, 0.991428554058075, 0.9942857027053833, 0.9971428513526917, 0.9971428513526917]\n",
      "----------------------------------------\n",
      "----------------------------------------\n"
     ]
    },
    {
     "name": "stderr",
     "output_type": "stream",
     "text": [
      "\r"
     ]
    }
   ],
   "source": [
    "losses_list = []\n",
    "accuracies_list = []\n",
    "for learning_rate in learning_rates:\n",
    "    cnn = CNN()\n",
    "    print(\"Training with learning rate {}\\n\".format(learning_rate))\n",
    "    loss, accu = train(cnn, batch_size, n_epochs=num_epochs, lr=learning_rate, train_loader=train_dataloader)\n",
    "    losses_list.append(loss)\n",
    "    accuracies_list.append(accu)\n",
    "    print(\"-\"*40)"
   ],
   "metadata": {
    "collapsed": false,
    "pycharm": {
     "name": "#%%\n"
    }
   }
  },
  {
   "cell_type": "code",
   "execution_count": 7,
   "outputs": [],
   "source": [
    "# plot the losses of training against the number of epochs\n",
    "def plot_loss(losses, lr):\n",
    "    plt.figure(figsize=(10,5))\n",
    "    for _i, _loss in enumerate(losses):\n",
    "        plt.plot(_loss, label=\"learning rate: {}\".format(lr[_i]))\n",
    "    plt.title(\"Loss vs. Epochs\")\n",
    "    plt.xlabel(\"Epochs\")\n",
    "    plt.ylabel(\"Loss\")\n",
    "    plt.grid(True)\n",
    "    plt.legend()\n",
    "    plt.show()\n",
    "\n",
    "# plot the accuracy of training against the number of epochs\n",
    "def plot_accuracy(accuracies, lr):\n",
    "    plt.figure(figsize=(10,5))\n",
    "    for _i, _accu in enumerate(accuracies):\n",
    "        plt.plot(_accu, label=\"learning rate: {}\".format(lr[_i]))\n",
    "    plt.title(\"Accuracy vs. Epochs\")\n",
    "    plt.xlabel(\"Epochs\")\n",
    "    plt.ylabel(\"Accuracy\")\n",
    "    plt.grid(True)\n",
    "    plt.legend()\n",
    "    plt.show()"
   ],
   "metadata": {
    "collapsed": false,
    "pycharm": {
     "name": "#%%\n"
    }
   }
  },
  {
   "cell_type": "code",
   "execution_count": 8,
   "outputs": [],
   "source": [
    "# save the losses and accuracies in a numpy file\n",
    "train_history = {'loss': np.array(losses_list), 'accuracy': np.array(accuracies_list)}\n",
    "np.save('Outputs/models/train_history.npy', train_history)"
   ],
   "metadata": {
    "collapsed": false,
    "pycharm": {
     "name": "#%%\n"
    }
   }
  },
  {
   "cell_type": "code",
   "execution_count": 9,
   "outputs": [
    {
     "data": {
      "text/plain": "<Figure size 720x360 with 1 Axes>",
      "image/png": "[encoded data removed]"
     },
     "metadata": {
      "needs_background": "light"
     },
     "output_type": "display_data"
    },
    {
     "data": {
      "text/plain": "<Figure size 720x360 with 1 Axes>",
      "image/png": "[encoded data removed]"
     },
     "metadata": {
      "needs_background": "light"
     },
     "output_type": "display_data"
    }
   ],
   "source": [
    "train_history = np.load('Outputs/models/train_history.npy', allow_pickle=True).item()\n",
    "losses = train_history['loss']\n",
    "accuracies = train_history['accuracy']\n",
    "\n",
    "#plot the losses and accuracies\n",
    "plot_loss(losses, learning_rates)\n",
    "plot_accuracy(accuracies, learning_rates)"
   ],
   "metadata": {
    "collapsed": false,
    "pycharm": {
     "name": "#%%\n"
    }
   }
  }
 ],
 "metadata": {
  "kernelspec": {
   "display_name": "Python 3",
   "language": "python",
   "name": "python3"
  },
  "language_info": {
   "codemirror_mode": {
    "name": "ipython",
    "version": 2
   },
   "file_extension": ".py",
   "mimetype": "text/x-python",
   "name": "python",
   "nbconvert_exporter": "python",
   "pygments_lexer": "ipython2",
   "version": "2.7.6"
  }
 },
 "nbformat": 4,
 "nbformat_minor": 0
}
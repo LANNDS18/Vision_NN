{
 "cells": [
  {
   "cell_type": "code",
   "execution_count": 2,
   "outputs": [],
   "source": [
    "import matplotlib.pyplot as plt\n",
    "import numpy as np\n",
    "import torch as th\n",
    "import csv\n",
    "\n",
    "from cnn import CNN, createLossAndOptimizer\n",
    "from torch.utils.data import DataLoader\n",
    "from tqdm import tqdm\n",
    "\n",
    "from imgdata import DefaultTrainSet"
   ],
   "metadata": {
    "collapsed": false,
    "pycharm": {
     "name": "#%%\n"
    }
   }
  },
  {
   "cell_type": "code",
   "execution_count": 2,
   "outputs": [
    {
     "data": {
      "text/plain": "device(type='cpu')"
     },
     "execution_count": 2,
     "metadata": {},
     "output_type": "execute_result"
    }
   ],
   "source": [
    "%matplotlib inline\n",
    "\n",
    "if th.cuda.is_available():\n",
    "  # Make CuDNN Determinist\n",
    "  th.backends.cudnn.deterministic = True\n",
    "\n",
    "# Define default device, we should use the GPU (cuda) if available\n",
    "device = th.device(\"cuda\" if th.cuda.is_available() else \"cpu\")\n",
    "device"
   ],
   "metadata": {
    "collapsed": false,
    "pycharm": {
     "name": "#%%\n"
    }
   }
  },
  {
   "cell_type": "markdown",
   "source": [
    "### Set Constants\n",
    "define learning rate as a list of values, and the number of epochs and batch size"
   ],
   "metadata": {
    "collapsed": false
   }
  },
  {
   "cell_type": "code",
   "execution_count": 3,
   "outputs": [],
   "source": [
    "learning_rates = [1e-2, 1e-3, 1e-4, 1e-5]\n",
    "batch_size = 16\n",
    "num_epochs = 20"
   ],
   "metadata": {
    "collapsed": false,
    "pycharm": {
     "name": "#%%\n"
    }
   }
  },
  {
   "cell_type": "markdown",
   "source": [
    "### Load data\n",
    "using the DefaultTrainSet class from imgdata.py"
   ],
   "metadata": {
    "collapsed": false
   }
  },
  {
   "cell_type": "code",
   "execution_count": 4,
   "outputs": [],
   "source": [
    "train_set = DefaultTrainSet()\n",
    "\n",
    "train_dataloader = th.utils.data.DataLoader(train_set, batch_size=batch_size, shuffle=True)"
   ],
   "metadata": {
    "collapsed": false,
    "pycharm": {
     "name": "#%%\n"
    }
   }
  },
  {
   "cell_type": "code",
   "execution_count": 6,
   "outputs": [],
   "source": [
    "def train(net, batch, n_epochs, lr, train_loader):\n",
    "    \"\"\"\n",
    "    Train a neural network and print statistics of the training\n",
    "\n",
    "    :param train_loader: loader for the training data\n",
    "    :param net: (PyTorch Neural Network)\n",
    "    :param batch: (int)\n",
    "    :param n_epochs: (int)  Number of iterations on the training set\n",
    "    :param lr: (float) learning rate used by the optimizer\n",
    "    \"\"\"\n",
    "    print(\"---------- HYPERPARAMETERS ----------\")\n",
    "    print(\"batch_size=\", batch)\n",
    "    print(\"n_epochs=\", n_epochs)\n",
    "    print(\"learning_rate=\", lr)\n",
    "    print(\"-\" * 40)\n",
    "    accuracies = []\n",
    "    losses = []\n",
    "    criterion, optimizer = createLossAndOptimizer(net, lr)\n",
    "    # Move model to gpu if possible\n",
    "    net = net.to(device)\n",
    "    for epoch_count, epoch in enumerate(range(n_epochs)):\n",
    "        # Set the model to training mode\n",
    "        net.train()\n",
    "        # Initialize the variables to compute the average loss\n",
    "        total_loss = 0.00\n",
    "        avg_loss = 0.00\n",
    "        total_correct = 0\n",
    "        pbar = tqdm(train_loader, leave=False)\n",
    "        # Iterate over the training set\n",
    "        for i, data in enumerate(pbar):\n",
    "\n",
    "            # Get the inputs\n",
    "            inputs, labels = data['imNorm'], data['label']\n",
    "            # Move them to the correct device\n",
    "            inputs = inputs.to(device)\n",
    "            labels = labels.to(device)\n",
    "            net = net.to(device)\n",
    "\n",
    "            # Zero the parameter gradients\n",
    "            optimizer.zero_grad()\n",
    "\n",
    "            # Forward pass\n",
    "            outputs = net(inputs)\n",
    "             # Calculate Loss: softmax --> cross entropy loss\n",
    "            loss = criterion(outputs, labels)\n",
    "            \n",
    "            _, preds = th.max(outputs, 1)\n",
    "\n",
    "            # Getting gradients w.r.t. parameters\n",
    "            loss.backward()\n",
    "\n",
    "            # Updating parameters\n",
    "            optimizer.step()\n",
    "\n",
    "            # Update the running variables\n",
    "            total_loss += loss.item()\n",
    "            avg_loss = total_loss / (i + 1)\n",
    "            total_correct += th.sum(preds == labels.data)\n",
    "            pbar.set_description(\"Epoch: {}/{}\".format(epoch_count + 1, n_epochs))\n",
    "            pbar.set_postfix(avergae_loss=avg_loss, running_accuracy=th.sum(preds == labels).item() / float(labels.size(0)))\n",
    "            # save the model\n",
    "            model_name = f\"models/model_{num_epochs}_epochs_learning_rate_{lr}.pth\"\n",
    "            th.save(net.state_dict(), model_name)\n",
    "\n",
    "        # Calculate the average loss and accuracy of the epoch\n",
    "        losses.append(total_loss/len(train_loader))\n",
    "        accuracies.append((total_correct/train_loader.sampler.num_samples).item())\n",
    "        # print losses and accuracies in the last epoch\n",
    "        if epoch_count == n_epochs - 1:\n",
    "            print(\"---------- FINAL RESULTS ----------\")\n",
    "            print(\"Losses fot every epoch:\", losses)\n",
    "            print(\"Average accuracy for each epoch: {}\".format(accuracies))\n",
    "            print(\"-\" * 40)\n",
    "    return losses, accuracies"
   ],
   "metadata": {
    "collapsed": false,
    "pycharm": {
     "name": "#%%\n"
    }
   }
  },
  {
   "cell_type": "code",
   "execution_count": 17,
   "outputs": [
    {
     "name": "stdout",
     "output_type": "stream",
     "text": [
      "Training with learning rate 0.01\n",
      "\n",
      "---------- HYPERPARAMETERS ----------\n",
      "batch_size= 16\n",
      "n_epochs= 20\n",
      "learning_rate= 0.01\n",
      "----------------------------------------\n"
     ]
    },
    {
     "name": "stderr",
     "output_type": "stream",
     "text": [
      "                                                                                                          \r"
     ]
    },
    {
     "name": "stdout",
     "output_type": "stream",
     "text": [
      "---------- FINAL RESULTS ----------\n",
      "Losses fot every epoch: [120.64590580896898, 23.695988687601957, 8.839428357102655, 3.872390751303597, 3.315979206072733, 2.6370037116144207, 1.842923170320723, 1.708429875365885, 1.1388127460749358, 1.5306319443030063, 0.9327578775070293, 0.6967288244799916, 0.3749381913628343, 0.5584224123713761, 0.7122720851753414, 0.5235382604666522, 0.5446050269553496, 0.031064544820035553, 0.11281412211982648, 0.7547901310607418]\n",
      "Average accuracy for each epoch: [0.39714285731315613, 0.6885714530944824, 0.8057143092155457, 0.8628571629524231, 0.8971428275108337, 0.8885714411735535, 0.9285714030265808, 0.9028571248054504, 0.9371428489685059, 0.9314285516738892, 0.9485714435577393, 0.9628571271896362, 0.9714285731315613, 0.9685714244842529, 0.9599999785423279, 0.9571428298950195, 0.9714285731315613, 0.9942857027053833, 0.9828571677207947, 0.9657142758369446]\n",
      "----------------------------------------\n",
      "----------------------------------------\n",
      "Training with learning rate 0.001\n",
      "\n",
      "---------- HYPERPARAMETERS ----------\n",
      "batch_size= 16\n",
      "n_epochs= 20\n",
      "learning_rate= 0.001\n",
      "----------------------------------------\n"
     ]
    },
    {
     "name": "stderr",
     "output_type": "stream",
     "text": [
      "                                                                                                          \r"
     ]
    },
    {
     "name": "stdout",
     "output_type": "stream",
     "text": [
      "---------- FINAL RESULTS ----------\n",
      "Losses fot every epoch: [0.3797535168288368, 0.035785839009286405, 0.08775929019853121, 3.4677019680386745e-06, 0.026618211515545352, 0.0013253275563959671, 0.04257674068575625, 0.08004737972284687, 6.806633528124515e-07, 6.478977261922562e-05, 0.01139354819300007, 0.0915606263516515, 0.01419907131240787, 0.028361822580837828, 4.108650279538944e-05, 0.003734180724741763, 0.007296768642225373, 0.013463747788728497, 0.47457125877876005, 0.2088141911994752]\n",
      "Average accuracy for each epoch: [0.9571428298950195, 0.991428554058075, 0.991428554058075, 1.0, 0.9942857027053833, 1.0, 0.9942857027053833, 0.991428554058075, 1.0, 1.0, 0.9971428513526917, 0.9942857027053833, 0.9971428513526917, 0.9942857027053833, 1.0, 0.9971428513526917, 0.9971428513526917, 0.9971428513526917, 0.9828571677207947, 0.9857142567634583]\n",
      "----------------------------------------\n",
      "----------------------------------------\n",
      "Training with learning rate 0.0001\n",
      "\n",
      "---------- HYPERPARAMETERS ----------\n",
      "batch_size= 16\n",
      "n_epochs= 20\n",
      "learning_rate= 0.0001\n",
      "----------------------------------------\n"
     ]
    },
    {
     "name": "stderr",
     "output_type": "stream",
     "text": [
      "                                                                                                          \r"
     ]
    },
    {
     "name": "stdout",
     "output_type": "stream",
     "text": [
      "---------- FINAL RESULTS ----------\n",
      "Losses fot every epoch: [0.049468326751414576, 0.0008388105092797476, 0.0005661778427107053, 4.6043688431428684e-05, 4.151843545932818e-07, 1.4393057311646762e-07, 0.003960445228254026, 5.9265662902515975e-08, 2.4044972639232623e-08, 1.6933134288682988e-09, 3.697233027165726e-05, 0.0005410363939042373, 1.4788944429280158e-06, 0.00016292985831319179, 1.1820497182280965e-06, 8.584338909207129e-07, 0.013055739075928779, 5.587401692834377e-07, 3.3866273421975535e-10, 0.02158745953981618]\n",
      "Average accuracy for each epoch: [0.9942857027053833, 1.0, 1.0, 1.0, 1.0, 1.0, 0.9971428513526917, 1.0, 1.0, 1.0, 1.0, 1.0, 1.0, 1.0, 1.0, 1.0, 0.9971428513526917, 1.0, 1.0, 0.9971428513526917]\n",
      "----------------------------------------\n",
      "----------------------------------------\n",
      "Training with learning rate 1e-05\n",
      "\n",
      "---------- HYPERPARAMETERS ----------\n",
      "batch_size= 16\n",
      "n_epochs= 20\n",
      "learning_rate= 1e-05\n",
      "----------------------------------------\n"
     ]
    },
    {
     "name": "stderr",
     "output_type": "stream",
     "text": [
      "                                                                                                         "
     ]
    },
    {
     "name": "stdout",
     "output_type": "stream",
     "text": [
      "---------- FINAL RESULTS ----------\n",
      "Losses fot every epoch: [2.3706383119174875e-09, 0.00984035128546295, 3.3525642795240174e-07, 6.773254280677644e-10, 1.6004082267711601e-06, 2.370638715634951e-09, 1.964237893549058e-08, 3.197927972936105e-08, 0.00459265336388876, 1.6613342833144367e-06, 1.3546506946485433e-09, 0.00010034202918494309, 1.8185698861957048e-07, 8.441612325524065e-07, 3.6267593217913103e-06, 3.6336243682619984e-07, 3.3866256062124607e-09, 0.11542828651991725, 3.3866273421975535e-10, 1.1006342794737313e-07]\n",
      "Average accuracy for each epoch: [1.0, 0.9971428513526917, 1.0, 1.0, 1.0, 1.0, 1.0, 1.0, 0.9971428513526917, 1.0, 1.0, 1.0, 1.0, 1.0, 1.0, 1.0, 1.0, 0.9971428513526917, 1.0, 1.0]\n",
      "----------------------------------------\n",
      "----------------------------------------\n"
     ]
    },
    {
     "name": "stderr",
     "output_type": "stream",
     "text": [
      "\r"
     ]
    }
   ],
   "source": [
    "cnn = CNN()\n",
    "losses_list = []\n",
    "accuracies_list = []\n",
    "for learning_rate in learning_rates:\n",
    "    print(\"Training with learning rate {}\\n\".format(learning_rate))\n",
    "    loss, accu = train(cnn, batch_size, n_epochs=num_epochs, lr=learning_rate, train_loader=train_dataloader)\n",
    "    losses_list.append(loss)\n",
    "    accuracies_list.append(accu)\n",
    "    print(\"-\"*40)"
   ],
   "metadata": {
    "collapsed": false,
    "pycharm": {
     "name": "#%%\n"
    }
   }
  },
  {
   "cell_type": "code",
   "execution_count": 22,
   "outputs": [],
   "source": [
    "# plot the losses of training against the number of epochs\n",
    "def plot_loss(losses, lr):\n",
    "    plt.figure(figsize=(10,5))\n",
    "    for _i, _loss in enumerate(losses):\n",
    "        plt.plot(_loss, label=\"learning rate: {}\".format(lr[_i]))\n",
    "    plt.title(\"Loss vs. Epochs\")\n",
    "    plt.xlabel(\"Epochs\")\n",
    "    plt.ylabel(\"Loss\")\n",
    "    plt.grid(True)\n",
    "    plt.legend()\n",
    "    plt.show()\n",
    "\n",
    "# plot the accuracy of training against the number of epochs\n",
    "def plot_accuracy(accuracies, lr):\n",
    "    plt.figure(figsize=(10,5))\n",
    "    for _i, _accu in enumerate(accuracies):\n",
    "        plt.plot(_accu, label=\"learning rate: {}\".format(lr[_i]))\n",
    "    plt.title(\"Accuracy vs. Epochs\")\n",
    "    plt.xlabel(\"Epochs\")\n",
    "    plt.ylabel(\"Accuracy\")\n",
    "    plt.grid(True)\n",
    "    plt.legend()\n",
    "    plt.show()"
   ],
   "metadata": {
    "collapsed": false,
    "pycharm": {
     "name": "#%%\n"
    }
   }
  },
  {
   "cell_type": "code",
   "execution_count": 31,
   "outputs": [],
   "source": [
    "# save the losses and accuracies in a numpy file\n",
    "train_history = {'loss': np.array(losses_list), 'accuracy': np.array(accuracies_list)}\n",
    "np.save('train_history.npy', train_history)"
   ],
   "metadata": {
    "collapsed": false,
    "pycharm": {
     "name": "#%%\n"
    }
   }
  },
  {
   "cell_type": "code",
   "execution_count": 34,
   "outputs": [
    {
     "data": {
      "text/plain": "<Figure size 720x360 with 1 Axes>",
      "image/png": "[encoded data removed]"
     },
     "metadata": {
      "needs_background": "light"
     },
     "output_type": "display_data"
    },
    {
     "data": {
      "text/plain": "<Figure size 720x360 with 1 Axes>",
      "image/png": "[encoded data removed]"
     },
     "metadata": {
      "needs_background": "light"
     },
     "output_type": "display_data"
    }
   ],
   "source": [
    "train_history = np.load('train_history.npy', allow_pickle=True).item()\n",
    "losses = train_history['loss']\n",
    "accuracies = train_history['accuracy']\n",
    "\n",
    "#plot the losses and accuracies\n",
    "plot_loss(losses, learning_rates)\n",
    "plot_accuracy(accuracies, learning_rates)"
   ],
   "metadata": {
    "collapsed": false,
    "pycharm": {
     "name": "#%%\n"
    }
   }
  }
 ],
 "metadata": {
  "kernelspec": {
   "display_name": "Python 3",
   "language": "python",
   "name": "python3"
  },
  "language_info": {
   "codemirror_mode": {
    "name": "ipython",
    "version": 2
   },
   "file_extension": ".py",
   "mimetype": "text/x-python",
   "name": "python",
   "nbconvert_exporter": "python",
   "pygments_lexer": "ipython2",
   "version": "2.7.6"
  }
 },
 "nbformat": 4,
 "nbformat_minor": 0
}
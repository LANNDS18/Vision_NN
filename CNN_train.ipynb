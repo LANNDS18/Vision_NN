{
 "cells": [
  {
   "cell_type": "code",
   "execution_count": 13,
   "outputs": [],
   "source": [
    "import matplotlib.pyplot as plt\n",
    "import numpy as np\n",
    "import torch as th\n",
    "\n",
    "from cnn import CNN, createLossAndOptimizer\n",
    "from torch.utils.data import DataLoader\n",
    "from tqdm import tqdm\n",
    "\n",
    "from imgdata import DefaultTrainSet"
   ],
   "metadata": {
    "collapsed": false,
    "pycharm": {
     "name": "#%%\n"
    }
   }
  },
  {
   "cell_type": "code",
   "execution_count": 14,
   "outputs": [
    {
     "data": {
      "text/plain": "device(type='cpu')"
     },
     "execution_count": 14,
     "metadata": {},
     "output_type": "execute_result"
    }
   ],
   "source": [
    "%matplotlib inline\n",
    "\n",
    "if th.cuda.is_available():\n",
    "  # Make CuDNN Determinist\n",
    "  th.backends.cudnn.deterministic = True\n",
    "\n",
    "# Define default device, we should use the GPU (cuda) if available\n",
    "device = th.device(\"cuda\" if th.cuda.is_available() else \"cpu\")\n",
    "device"
   ],
   "metadata": {
    "collapsed": false,
    "pycharm": {
     "name": "#%%\n"
    }
   }
  },
  {
   "cell_type": "markdown",
   "source": [
    "### Set Constants\n",
    "define learning rate as a list of values, and the number of epochs and batch size"
   ],
   "metadata": {
    "collapsed": false
   }
  },
  {
   "cell_type": "code",
   "execution_count": 15,
   "outputs": [],
   "source": [
    "learning_rates = [1e-2, 1e-3, 1e-4, 1e-5]\n",
    "batch_size = 16\n",
    "num_epochs = 20"
   ],
   "metadata": {
    "collapsed": false,
    "pycharm": {
     "name": "#%%\n"
    }
   }
  },
  {
   "cell_type": "markdown",
   "source": [
    "### Load data\n",
    "using the DefaultTrainSet class from imgdata.py"
   ],
   "metadata": {
    "collapsed": false
   }
  },
  {
   "cell_type": "code",
   "execution_count": 16,
   "outputs": [],
   "source": [
    "train_set = DefaultTrainSet()\n",
    "\n",
    "train_dataloader = th.utils.data.DataLoader(train_set, batch_size=batch_size, shuffle=True)"
   ],
   "metadata": {
    "collapsed": false,
    "pycharm": {
     "name": "#%%\n"
    }
   }
  },
  {
   "cell_type": "markdown",
   "source": [
    "### Define the training function"
   ],
   "metadata": {
    "collapsed": false
   }
  },
  {
   "cell_type": "code",
   "execution_count": 17,
   "outputs": [],
   "source": [
    "def train(net, batch, n_epochs, lr, train_loader):\n",
    "    \"\"\"\n",
    "    Train a neural network and print statistics of the training\n",
    "\n",
    "    :param train_loader: loader for the training data\n",
    "    :param net: (PyTorch Neural Network)\n",
    "    :param batch: (int)\n",
    "    :param n_epochs: (int)  Number of iterations on the training set\n",
    "    :param lr: (float) learning rate used by the optimizer\n",
    "    \"\"\"\n",
    "    print(\"---------- HYPERPARAMETERS ----------\")\n",
    "    print(\"batch_size=\", batch)\n",
    "    print(\"n_epochs=\", n_epochs)\n",
    "    print(\"learning_rate=\", lr)\n",
    "    print(\"-\" * 40)\n",
    "    _accuracies = []\n",
    "    _losses = []\n",
    "    criterion, optimizer = createLossAndOptimizer(net, lr)\n",
    "    # Move model to gpu if possible\n",
    "    net = net.to(device)\n",
    "    for epoch_count, epoch in enumerate(range(n_epochs)):\n",
    "        # Set the model to training mode\n",
    "        net.train()\n",
    "        # Initialize the variables to compute the average loss\n",
    "        total_loss = 0.00\n",
    "        total_correct = 0\n",
    "        pbar = tqdm(train_loader, leave=False)\n",
    "        # Iterate over the training set\n",
    "        for i, data in enumerate(pbar):\n",
    "\n",
    "            # Get the inputs\n",
    "            inputs, labels = data['imNorm'], data['label']\n",
    "            # Move them to the correct device\n",
    "            inputs = inputs.to(device)\n",
    "            labels = labels.to(device)\n",
    "            net = net.to(device)\n",
    "\n",
    "            # Zero the parameter gradients\n",
    "            optimizer.zero_grad()\n",
    "\n",
    "            # Forward pass\n",
    "            outputs = net(inputs)\n",
    "             # Calculate Loss: softmax --> cross entropy loss\n",
    "            _loss = criterion(outputs, labels)\n",
    "\n",
    "            _, preds = th.max(outputs, 1)\n",
    "\n",
    "            # Getting gradients w.r.t. parameters\n",
    "            _loss.backward()\n",
    "\n",
    "            # Updating parameters\n",
    "            optimizer.step()\n",
    "\n",
    "            # Update the running variables\n",
    "            total_loss += _loss.item()\n",
    "            avg_loss = total_loss / (i + 1)\n",
    "            total_correct += th.sum(preds == labels.data)\n",
    "            pbar.set_description(\"Epoch: {}/{}\".format(epoch_count + 1, n_epochs))\n",
    "            pbar.set_postfix(avergae_loss=avg_loss, running_accuracy=th.sum(preds == labels).item() / float(labels.size(0)))\n",
    "            # save the model\n",
    "            model_name = f\"Outputs/models/model_{num_epochs}_epochs_learning_rate_{lr}.pth\"\n",
    "            th.save(net.state_dict(), model_name)\n",
    "\n",
    "        # Calculate the average loss and accuracy of the epoch\n",
    "        _losses.append(total_loss / len(train_loader))\n",
    "        _accuracies.append((total_correct / train_loader.sampler.num_samples).item())\n",
    "        # print losses and accuracies in the last epoch\n",
    "        if epoch_count == n_epochs - 1:\n",
    "            print(\"---------- FINAL RESULTS ----------\")\n",
    "            print(\"Losses fot every epoch:\", _losses)\n",
    "            print(\"Average accuracy for each epoch: {}\".format(_accuracies))\n",
    "            print(\"-\" * 40)\n",
    "    return _losses, _accuracies"
   ],
   "metadata": {
    "collapsed": false,
    "pycharm": {
     "name": "#%%\n"
    }
   }
  },
  {
   "cell_type": "code",
   "execution_count": 18,
   "outputs": [
    {
     "name": "stdout",
     "output_type": "stream",
     "text": [
      "Training with learning rate 0.01\n",
      "\n",
      "---------- HYPERPARAMETERS ----------\n",
      "batch_size= 16\n",
      "n_epochs= 20\n",
      "learning_rate= 0.01\n",
      "----------------------------------------\n"
     ]
    },
    {
     "name": "stderr",
     "output_type": "stream",
     "text": [
      "                                                                                                          \r"
     ]
    },
    {
     "name": "stdout",
     "output_type": "stream",
     "text": [
      "---------- FINAL RESULTS ----------\n",
      "Losses fot every epoch: [128.33909929882395, 36.320782314647325, 9.249999474395405, 3.966146822510795, 1.478660145562096, 0.612273870918825, 0.17529062271727983, 0.18584643809593662, 0.2717692210613501, 0.1289049238766296, 0.26894627403651067, 0.11560544680806627, 0.34108253487665313, 0.2500028801955962, 1.2904372732803453, 0.3623610659218528, 0.14184412344417296, 0.12761841587885378, 0.08742866688027542, 0.15153258999487465]\n",
      "Average accuracy for each epoch: [0.38857144117355347, 0.6342856884002686, 0.7971428632736206, 0.8514285683631897, 0.9114285707473755, 0.9599999785423279, 0.977142870426178, 0.9685714244842529, 0.977142870426178, 0.9800000190734863, 0.9685714244842529, 0.9828571677207947, 0.9742857217788696, 0.977142870426178, 0.9200000166893005, 0.9485714435577393, 0.9828571677207947, 0.9828571677207947, 0.9885714054107666, 0.9828571677207947]\n",
      "----------------------------------------\n",
      "----------------------------------------\n",
      "Training with learning rate 0.001\n",
      "\n",
      "---------- HYPERPARAMETERS ----------\n",
      "batch_size= 16\n",
      "n_epochs= 20\n",
      "learning_rate= 0.001\n",
      "----------------------------------------\n"
     ]
    },
    {
     "name": "stderr",
     "output_type": "stream",
     "text": [
      "                                                                                                          \r"
     ]
    },
    {
     "name": "stdout",
     "output_type": "stream",
     "text": [
      "---------- FINAL RESULTS ----------\n",
      "Losses fot every epoch: [16.046464827927675, 4.0143844864585185, 1.3268188732591542, 0.45214145248482135, 0.25654318577918195, 0.45590288190534134, 0.10362656530283361, 0.09546850150581644, 0.052458891633643194, 0.013484601596722066, 0.43491542951345896, 0.2013473421929145, 0.17256326395671417, 0.2741341560004829, 0.17023689964027902, 0.16168398041044052, 0.2243564119831686, 0.09008671336015019, 0.04196921225629327, 0.36742779202362447]\n",
      "Average accuracy for each epoch: [0.41428571939468384, 0.7057142853736877, 0.8285714387893677, 0.9257143139839172, 0.9599999785423279, 0.9399999976158142, 0.977142870426178, 0.9742857217788696, 0.977142870426178, 0.9942857027053833, 0.9285714030265808, 0.9628571271896362, 0.9657142758369446, 0.9485714435577393, 0.9657142758369446, 0.9685714244842529, 0.9599999785423279, 0.9828571677207947, 0.9857142567634583, 0.954285740852356]\n",
      "----------------------------------------\n",
      "----------------------------------------\n",
      "Training with learning rate 0.0001\n",
      "\n",
      "---------- HYPERPARAMETERS ----------\n",
      "batch_size= 16\n",
      "n_epochs= 20\n",
      "learning_rate= 0.0001\n",
      "----------------------------------------\n"
     ]
    },
    {
     "name": "stderr",
     "output_type": "stream",
     "text": [
      "                                                                                                         \r"
     ]
    },
    {
     "name": "stdout",
     "output_type": "stream",
     "text": [
      "---------- FINAL RESULTS ----------\n",
      "Losses fot every epoch: [1.1571560122750022, 0.3445082012225281, 0.2070326107469472, 0.07964201339266518, 0.05073107469996268, 0.024648395091803235, 0.020055293613536793, 0.01388049316169186, 0.012032098666002805, 0.009404133179817687, 0.009123350408944216, 0.007356405406343666, 0.00633263241880658, 0.006367102709852837, 0.005199137006208978, 0.005283311739648608, 0.004548063163052906, 0.003945183977273039, 0.0035783466248011046, 0.0032474197531965647]\n",
      "Average accuracy for each epoch: [0.6228571534156799, 0.8828571438789368, 0.9200000166893005, 0.9942857027053833, 0.991428554058075, 1.0, 1.0, 1.0, 1.0, 1.0, 1.0, 1.0, 1.0, 1.0, 1.0, 1.0, 1.0, 1.0, 1.0, 1.0]\n",
      "----------------------------------------\n",
      "----------------------------------------\n",
      "Training with learning rate 1e-05\n",
      "\n",
      "---------- HYPERPARAMETERS ----------\n",
      "batch_size= 16\n",
      "n_epochs= 20\n",
      "learning_rate= 1e-05\n",
      "----------------------------------------\n"
     ]
    },
    {
     "name": "stderr",
     "output_type": "stream",
     "text": [
      "                                                                                                          "
     ]
    },
    {
     "name": "stdout",
     "output_type": "stream",
     "text": [
      "---------- FINAL RESULTS ----------\n",
      "Losses fot every epoch: [1.4372974227775226, 0.9034827216105028, 0.6527766693722118, 0.5477532812140204, 0.46030212261460046, 0.39590852707624435, 0.3513673862273043, 0.31467091088945215, 0.27609226446260104, 0.24262492697347293, 0.21719275956804102, 0.19687137380242348, 0.18124162710525774, 0.16203999146819115, 0.14948530156504025, 0.13180428675629877, 0.12269676358185032, 0.1072397909381173, 0.10544893941418691, 0.09222370775585825]\n",
      "Average accuracy for each epoch: [0.39142856001853943, 0.7514285445213318, 0.8114285469055176, 0.854285717010498, 0.8799999952316284, 0.8942857384681702, 0.9257143139839172, 0.9257143139839172, 0.9457142949104309, 0.9685714244842529, 0.9657142758369446, 0.9714285731315613, 0.9828571677207947, 0.9828571677207947, 0.9885714054107666, 0.991428554058075, 0.9885714054107666, 0.9942857027053833, 0.9942857027053833, 0.9942857027053833]\n",
      "----------------------------------------\n",
      "----------------------------------------\n"
     ]
    },
    {
     "name": "stderr",
     "output_type": "stream",
     "text": [
      "\r"
     ]
    }
   ],
   "source": [
    "losses_list = []\n",
    "accuracies_list = []\n",
    "for learning_rate in learning_rates:\n",
    "    cnn = CNN()\n",
    "    print(\"Training with learning rate {}\\n\".format(learning_rate))\n",
    "    loss, accu = train(cnn, batch_size, n_epochs=num_epochs, lr=learning_rate, train_loader=train_dataloader)\n",
    "    losses_list.append(loss)\n",
    "    accuracies_list.append(accu)\n",
    "    print(\"-\"*40)"
   ],
   "metadata": {
    "collapsed": false,
    "pycharm": {
     "name": "#%%\n"
    }
   }
  },
  {
   "cell_type": "code",
   "execution_count": 19,
   "outputs": [],
   "source": [
    "# plot the losses of training against the number of epochs\n",
    "def plot_loss(_losses, lr):\n",
    "    plt.figure(figsize=(10,5))\n",
    "    for _i, _loss in enumerate(_losses):\n",
    "        plt.plot(_loss, label=\"learning rate: {}\".format(lr[_i]))\n",
    "    plt.title(\"Loss vs. Epochs\")\n",
    "    plt.xlabel(\"Epochs\")\n",
    "    plt.ylabel(\"Loss\")\n",
    "    plt.grid(True)\n",
    "    plt.legend()\n",
    "    plt.show()\n",
    "\n",
    "# plot the accuracy of training against the number of epochs\n",
    "def plot_accuracy(_accuracies, lr):\n",
    "    plt.figure(figsize=(10,5))\n",
    "    for _i, _accu in enumerate(_accuracies):\n",
    "        plt.plot(_accu, label=\"learning rate: {}\".format(lr[_i]))\n",
    "    plt.title(\"Accuracy vs. Epochs\")\n",
    "    plt.xlabel(\"Epochs\")\n",
    "    plt.ylabel(\"Accuracy\")\n",
    "    plt.grid(True)\n",
    "    plt.legend()\n",
    "    plt.show()"
   ],
   "metadata": {
    "collapsed": false,
    "pycharm": {
     "name": "#%%\n"
    }
   }
  },
  {
   "cell_type": "code",
   "execution_count": 20,
   "outputs": [],
   "source": [
    "# save the losses and accuracies in a numpy file\n",
    "train_history = {'loss': np.array(losses_list), 'accuracy': np.array(accuracies_list)}\n",
    "np.save('Outputs/models/train_history.npy', train_history)"
   ],
   "metadata": {
    "collapsed": false,
    "pycharm": {
     "name": "#%%\n"
    }
   }
  },
  {
   "cell_type": "code",
   "execution_count": 21,
   "outputs": [
    {
     "data": {
      "text/plain": "<Figure size 720x360 with 1 Axes>",
      "image/png": "[encoded data removed]"
     },
     "metadata": {
      "needs_background": "light"
     },
     "output_type": "display_data"
    },
    {
     "data": {
      "text/plain": "<Figure size 720x360 with 1 Axes>",
      "image/png": "[encoded data removed]"
     },
     "metadata": {
      "needs_background": "light"
     },
     "output_type": "display_data"
    }
   ],
   "source": [
    "train_history = np.load('Outputs/models/train_history.npy', allow_pickle=True).item()\n",
    "losses = train_history['loss']\n",
    "accuracies = train_history['accuracy']\n",
    "\n",
    "#plot the losses and accuracies\n",
    "plot_loss(losses, learning_rates)\n",
    "plot_accuracy(accuracies, learning_rates)"
   ],
   "metadata": {
    "collapsed": false,
    "pycharm": {
     "name": "#%%\n"
    }
   }
  }
 ],
 "metadata": {
  "kernelspec": {
   "display_name": "Python 3",
   "language": "python",
   "name": "python3"
  },
  "language_info": {
   "codemirror_mode": {
    "name": "ipython",
    "version": 2
   },
   "file_extension": ".py",
   "mimetype": "text/x-python",
   "name": "python",
   "nbconvert_exporter": "python",
   "pygments_lexer": "ipython2",
   "version": "2.7.6"
  }
 },
 "nbformat": 4,
 "nbformat_minor": 0
}
{
 "cells": [
  {
   "cell_type": "markdown",
   "source": [
    "### Transfer Learning with resnet50"
   ],
   "metadata": {
    "collapsed": false
   }
  },
  {
   "cell_type": "code",
   "execution_count": 192,
   "metadata": {
    "collapsed": true
   },
   "outputs": [],
   "source": [
    "from torchvision import models\n",
    "import numpy as np\n",
    "import torch as th\n",
    "\n",
    "from torch.utils.data import DataLoader\n",
    "from tqdm import tqdm\n",
    "\n",
    "from imgdata import DefaultTrainSet, DefaultTestSet\n",
    "\n",
    "from torch import nn\n",
    "import torch.optim as optim"
   ]
  },
  {
   "cell_type": "code",
   "execution_count": 193,
   "outputs": [
    {
     "data": {
      "text/plain": "device(type='cpu')"
     },
     "execution_count": 193,
     "metadata": {},
     "output_type": "execute_result"
    }
   ],
   "source": [
    "%matplotlib inline\n",
    "\n",
    "if th.cuda.is_available():\n",
    "  # Make CuDNN Determinist\n",
    "  th.backends.cudnn.deterministic = True\n",
    "\n",
    "# Define default device, we should use the GPU (cuda) if available\n",
    "device = th.device(\"cuda\" if th.cuda.is_available() else \"cpu\")\n",
    "device"
   ],
   "metadata": {
    "collapsed": false,
    "pycharm": {
     "name": "#%%\n"
    }
   }
  },
  {
   "cell_type": "markdown",
   "source": [
    "### Set constants"
   ],
   "metadata": {
    "collapsed": false
   }
  },
  {
   "cell_type": "code",
   "execution_count": 194,
   "outputs": [],
   "source": [
    "lr = 1e-4\n",
    "epochs = 5\n",
    "batch_size = 16\n",
    "class_label = ['faces', 'dog', 'airplanes', 'keyboard', 'cars']"
   ],
   "metadata": {
    "collapsed": false,
    "pycharm": {
     "name": "#%%\n"
    }
   }
  },
  {
   "cell_type": "code",
   "execution_count": 195,
   "outputs": [],
   "source": [
    "train_set = DefaultTrainSet()\n",
    "\n",
    "train_dataloader = th.utils.data.DataLoader(train_set, batch_size=batch_size, shuffle=True)"
   ],
   "metadata": {
    "collapsed": false,
    "pycharm": {
     "name": "#%%\n"
    }
   }
  },
  {
   "cell_type": "markdown",
   "source": [
    "### Define model"
   ],
   "metadata": {
    "collapsed": false
   }
  },
  {
   "cell_type": "code",
   "execution_count": 196,
   "outputs": [],
   "source": [
    "resnet50 = models.resnet50(pretrained=True)\n",
    "fc_inputs = resnet50.fc.in_features"
   ],
   "metadata": {
    "collapsed": false,
    "pycharm": {
     "name": "#%%\n"
    }
   }
  },
  {
   "cell_type": "code",
   "execution_count": 197,
   "outputs": [],
   "source": [
    "resnet50.fc = nn.Sequential(\n",
    "    nn.Linear(fc_inputs, 256),\n",
    "    nn.ReLU(),\n",
    "    nn.Dropout(0.4),\n",
    "    nn.Linear(256, 5)\n",
    ")"
   ],
   "metadata": {
    "collapsed": false,
    "pycharm": {
     "name": "#%%\n"
    }
   }
  },
  {
   "cell_type": "code",
   "execution_count": 198,
   "outputs": [],
   "source": [
    "loss_func = nn.CrossEntropyLoss()\n",
    "optimizer = optim.Adam(resnet50.parameters(), lr=lr)"
   ],
   "metadata": {
    "collapsed": false,
    "pycharm": {
     "name": "#%%\n"
    }
   }
  },
  {
   "cell_type": "markdown",
   "source": [
    "### Train model"
   ],
   "metadata": {
    "collapsed": false
   }
  },
  {
   "cell_type": "code",
   "execution_count": 199,
   "outputs": [],
   "source": [
    "def train(_net, n_epochs, train_loader, _optimizer, _criterion):\n",
    "    \"\"\"\n",
    "    Train a neural network and print statistics of the training\n",
    "\n",
    "    :param _criterion:\n",
    "    :param _optimizer:\n",
    "    :param train_loader: loader for the training data\n",
    "    :param _net: (PyTorch Neural Network)\n",
    "    :param n_epochs: (int)  Number of iterations on the training set\n",
    "    \"\"\"\n",
    "    print(\"---------- HYPERPARAMETERS ----------\")\n",
    "    print(\"n_epochs=\", n_epochs)\n",
    "    print(\"-\" * 40)\n",
    "    accuracies = []\n",
    "    losses = []\n",
    "    # Move model to gpu if possible\n",
    "    _net = _net.to(device)\n",
    "    for epoch_count, epoch in enumerate(range(n_epochs)):\n",
    "        # Set the model to training mode\n",
    "        _net.train()\n",
    "        # Initialize the variables to compute the average loss\n",
    "        total_loss = 0.00\n",
    "        total_correct = 0\n",
    "        pbar = tqdm(train_loader)\n",
    "        # Iterate over the training set\n",
    "        for i, data in enumerate(pbar):\n",
    "\n",
    "            # Get the inputs\n",
    "            inputs, labels = data['imNorm'], data['label']\n",
    "            # Move them to the correct device\n",
    "            inputs = inputs.to(device)\n",
    "            labels = labels.to(device)\n",
    "\n",
    "            # Zero the parameter gradients\n",
    "            _optimizer.zero_grad()\n",
    "\n",
    "            # Forward pass\n",
    "            outputs = _net(inputs)\n",
    "             # Calculate Loss: softmax --> cross entropy loss\n",
    "            loss = _criterion(outputs, labels)\n",
    "            _, preds = th.max(outputs, 1)\n",
    "            # Getting gradients w.r.t. parameters\n",
    "            loss.backward()\n",
    "\n",
    "            # Updating parameters\n",
    "            _optimizer.step()\n",
    "\n",
    "            # Update the running variables\n",
    "            total_loss += loss.item()\n",
    "            avg_loss = total_loss / (i + 1)\n",
    "            total_correct += th.sum(preds == labels.data)\n",
    "            pbar.set_description(\"Epoch: {}/{}\".format(epoch_count + 1, n_epochs))\n",
    "            pbar.set_postfix(avergae_loss=avg_loss, running_accuracy=th.sum(preds == labels).item() / float(labels.size(0)))\n",
    "            # save the model\n",
    "            model_name = f\"models/resNet50.pth\"\n",
    "            th.save(_net.state_dict(), model_name)\n",
    "\n",
    "        # Calculate the average loss and accuracy of the epoch\n",
    "        losses.append(total_loss/len(train_loader))\n",
    "        accuracies.append((total_correct/train_loader.sampler.num_samples).item())\n",
    "        # print losses and accuracies in the last epoch\n",
    "        if epoch_count == n_epochs - 1:\n",
    "            print(\"---------- FINAL RESULTS ----------\")\n",
    "            print(\"Losses fot every epoch:\", losses)\n",
    "            print(\"Average accuracy for each epoch: {}\".format(accuracies))\n",
    "            print(\"-\" * 40)\n",
    "    return losses, accuracies"
   ],
   "metadata": {
    "collapsed": false,
    "pycharm": {
     "name": "#%%\n"
    }
   }
  },
  {
   "cell_type": "code",
   "execution_count": 200,
   "outputs": [
    {
     "name": "stdout",
     "output_type": "stream",
     "text": [
      "---------- HYPERPARAMETERS ----------\n",
      "n_epochs= 5\n",
      "----------------------------------------\n"
     ]
    },
    {
     "name": "stderr",
     "output_type": "stream",
     "text": [
      "Epoch: 1/5: 100%|██████████| 22/22 [02:46<00:00,  7.59s/it, avergae_loss=0.775, running_accuracy=1]    \n",
      "Epoch: 2/5: 100%|██████████| 22/22 [02:22<00:00,  6.45s/it, avergae_loss=0.0935, running_accuracy=1]    \n",
      "Epoch: 3/5: 100%|██████████| 22/22 [02:25<00:00,  6.63s/it, avergae_loss=0.0732, running_accuracy=1]    \n",
      "Epoch: 4/5: 100%|██████████| 22/22 [02:24<00:00,  6.59s/it, avergae_loss=0.0616, running_accuracy=1]    \n",
      "Epoch: 5/5: 100%|██████████| 22/22 [02:26<00:00,  6.65s/it, avergae_loss=0.0591, running_accuracy=0.929]"
     ]
    },
    {
     "name": "stdout",
     "output_type": "stream",
     "text": [
      "---------- FINAL RESULTS ----------\n",
      "Losses fot every epoch: [0.7745353762399066, 0.09345721411095424, 0.07319857798178088, 0.06157978723587638, 0.059090126157653605]\n",
      "Average accuracy for each epoch: [0.854285717010498, 0.9828571677207947, 0.9885714054107666, 0.9885714054107666, 0.9885714054107666]\n",
      "----------------------------------------\n"
     ]
    },
    {
     "name": "stderr",
     "output_type": "stream",
     "text": [
      "\n"
     ]
    }
   ],
   "source": [
    "losses, accuracies = train(resnet50, epochs, train_dataloader, optimizer, loss_func)"
   ],
   "metadata": {
    "collapsed": false,
    "pycharm": {
     "name": "#%%\n"
    }
   }
  },
  {
   "cell_type": "markdown",
   "source": [
    "### Evaluate model"
   ],
   "metadata": {
    "collapsed": false
   }
  },
  {
   "cell_type": "code",
   "execution_count": 201,
   "outputs": [],
   "source": [
    "# load test set and create dataloader\n",
    "test_set = DefaultTestSet()\n",
    "test_loader = DataLoader(test_set)\n",
    "test_y = [i['label'] for i in test_set]"
   ],
   "metadata": {
    "collapsed": false,
    "pycharm": {
     "name": "#%%\n"
    }
   }
  },
  {
   "cell_type": "code",
   "execution_count": 204,
   "outputs": [
    {
     "name": "stderr",
     "output_type": "stream",
     "text": [
      "100%|██████████| 50/50 [00:06<00:00,  7.83it/s]\n"
     ]
    }
   ],
   "source": [
    "def predict(_model, _tests):\n",
    "  predicts = []\n",
    "  with th.no_grad():\n",
    "    for i in tqdm(_tests):\n",
    "        _model.eval()\n",
    "        images = i['imNorm'].clone().to(device)\n",
    "        outputs = _model(images)\n",
    "        _, predicted = th.max(outputs.data, 1)\n",
    "        predicts.append(predicted.item())\n",
    "  return predicts\n",
    "\n",
    "resnet50.load_state_dict(th.load('models/resNet50.pth'))\n",
    "predict_y = predict(resnet50, test_loader)"
   ],
   "metadata": {
    "collapsed": false,
    "pycharm": {
     "name": "#%%\n"
    }
   }
  },
  {
   "cell_type": "code",
   "execution_count": 205,
   "outputs": [
    {
     "name": "stdout",
     "output_type": "stream",
     "text": [
      "[[10.  0.  0.  0.  0.]\n",
      " [ 0. 10.  0.  0.  0.]\n",
      " [ 0.  0. 10.  0.  0.]\n",
      " [ 0.  0.  1.  9.  0.]\n",
      " [ 0.  0.  0.  0. 10.]]\n",
      "the accuracy by class faces : 1.0\n",
      "the accuracy by class dog : 1.0\n",
      "the accuracy by class airplanes : 1.0\n",
      "the accuracy by class keyboard : 0.9\n",
      "the accuracy by class cars : 1.0\n",
      "overall accuracy : 0.98\n"
     ]
    }
   ],
   "source": [
    "correct = []\n",
    "incorrect = []\n",
    "for i, j in enumerate(predict_y):\n",
    "    if j == test_y[i]:\n",
    "      correct.append(i)\n",
    "    else:\n",
    "      incorrect.append(i)\n",
    "\n",
    "# generate confusion matrix\n",
    "def confusion_matrix(y_true, y_pred):\n",
    "  n_class = np.unique(y_true).shape[0]\n",
    "  cm = np.zeros((n_class, n_class))\n",
    "  for i in range(len(y_true)):\n",
    "    cm[y_true[i], y_pred[i]] += 1\n",
    "  return cm\n",
    "\n",
    "\n",
    "cm = confusion_matrix(test_y, predict_y)\n",
    "print(cm)\n",
    "\n",
    "def print_accuracy(cm):\n",
    "  for i in range(5):\n",
    "    print(f'the accuracy by class {class_label[i]} : {cm[i, i] / np.sum(cm[i, :])}')\n",
    "  # overall accuracy\n",
    "  print(f'overall accuracy : {np.sum(cm[range(5), range(5)]) / np.sum(cm)}')\n",
    "\n",
    "print_accuracy(cm)"
   ],
   "metadata": {
    "collapsed": false,
    "pycharm": {
     "name": "#%%\n"
    }
   }
  }
 ],
 "metadata": {
  "kernelspec": {
   "display_name": "Python 3",
   "language": "python",
   "name": "python3"
  },
  "language_info": {
   "codemirror_mode": {
    "name": "ipython",
    "version": 2
   },
   "file_extension": ".py",
   "mimetype": "text/x-python",
   "name": "python",
   "nbconvert_exporter": "python",
   "pygments_lexer": "ipython2",
   "version": "2.7.6"
  }
 },
 "nbformat": 4,
 "nbformat_minor": 0
}